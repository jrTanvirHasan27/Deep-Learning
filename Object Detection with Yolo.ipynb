{
 "cells": [
  {
   "cell_type": "code",
   "execution_count": 1,
   "metadata": {},
   "outputs": [
    {
     "name": "stdout",
     "output_type": "stream",
     "text": [
      "Requirement already satisfied: torch in c:\\users\\jrtan\\anaconda3\\envs\\myenv\\lib\\site-packages (1.11.0)\n",
      "Requirement already satisfied: torchvision in c:\\users\\jrtan\\anaconda3\\envs\\myenv\\lib\\site-packages (0.12.0)\n",
      "Requirement already satisfied: torchaudio in c:\\users\\jrtan\\anaconda3\\envs\\myenv\\lib\\site-packages (0.11.0)\n",
      "Requirement already satisfied: typing-extensions in c:\\users\\jrtan\\anaconda3\\envs\\myenv\\lib\\site-packages (from torch) (4.2.0)\n",
      "Requirement already satisfied: pillow!=8.3.*,>=5.3.0 in c:\\users\\jrtan\\anaconda3\\envs\\myenv\\lib\\site-packages (from torchvision) (9.1.1)\n",
      "Requirement already satisfied: numpy in c:\\users\\jrtan\\anaconda3\\envs\\myenv\\lib\\site-packages (from torchvision) (1.22.4)\n",
      "Requirement already satisfied: requests in c:\\users\\jrtan\\anaconda3\\envs\\myenv\\lib\\site-packages (from torchvision) (2.28.0)\n",
      "Requirement already satisfied: certifi>=2017.4.17 in c:\\users\\jrtan\\anaconda3\\envs\\myenv\\lib\\site-packages (from requests->torchvision) (2022.5.18.1)\n",
      "Requirement already satisfied: idna<4,>=2.5 in c:\\users\\jrtan\\anaconda3\\envs\\myenv\\lib\\site-packages (from requests->torchvision) (3.3)\n",
      "Requirement already satisfied: urllib3<1.27,>=1.21.1 in c:\\users\\jrtan\\anaconda3\\envs\\myenv\\lib\\site-packages (from requests->torchvision) (1.26.9)\n",
      "Requirement already satisfied: charset-normalizer~=2.0.0 in c:\\users\\jrtan\\anaconda3\\envs\\myenv\\lib\\site-packages (from requests->torchvision) (2.0.12)\n"
     ]
    }
   ],
   "source": [
    "!pip3 install torch torchvision torchaudio"
   ]
  },
  {
   "cell_type": "code",
   "execution_count": 3,
   "metadata": {},
   "outputs": [
    {
     "name": "stderr",
     "output_type": "stream",
     "text": [
      "c:\\Users\\jrtan\\anaconda3\\envs\\myenv\\lib\\site-packages\\tqdm\\auto.py:22: TqdmWarning: IProgress not found. Please update jupyter and ipywidgets. See https://ipywidgets.readthedocs.io/en/stable/user_install.html\n",
      "  from .autonotebook import tqdm as notebook_tqdm\n"
     ]
    }
   ],
   "source": [
    "import torch"
   ]
  },
  {
   "cell_type": "code",
   "execution_count": 4,
   "metadata": {},
   "outputs": [
    {
     "name": "stderr",
     "output_type": "stream",
     "text": [
      "fatal: destination path 'yolov5' already exists and is not an empty directory.\n"
     ]
    }
   ],
   "source": [
    "!git clone https://github.com/ultralytics/yolov5"
   ]
  },
  {
   "cell_type": "code",
   "execution_count": 5,
   "metadata": {},
   "outputs": [
    {
     "name": "stdout",
     "output_type": "stream",
     "text": [
      "Requirement already satisfied: matplotlib>=3.2.2 in c:\\users\\jrtan\\anaconda3\\envs\\myenv\\lib\\site-packages (from -r requirements.txt (line 5)) (3.5.2)\n",
      "Requirement already satisfied: numpy>=1.18.5 in c:\\users\\jrtan\\anaconda3\\envs\\myenv\\lib\\site-packages (from -r requirements.txt (line 6)) (1.22.4)\n",
      "Requirement already satisfied: opencv-python>=4.1.1 in c:\\users\\jrtan\\anaconda3\\envs\\myenv\\lib\\site-packages (from -r requirements.txt (line 7)) (4.6.0.66)\n",
      "Requirement already satisfied: Pillow>=7.1.2 in c:\\users\\jrtan\\anaconda3\\envs\\myenv\\lib\\site-packages (from -r requirements.txt (line 8)) (9.1.1)\n",
      "Requirement already satisfied: PyYAML>=5.3.1 in c:\\users\\jrtan\\anaconda3\\envs\\myenv\\lib\\site-packages (from -r requirements.txt (line 9)) (6.0)\n",
      "Requirement already satisfied: requests>=2.23.0 in c:\\users\\jrtan\\anaconda3\\envs\\myenv\\lib\\site-packages (from -r requirements.txt (line 10)) (2.28.0)\n",
      "Requirement already satisfied: scipy>=1.4.1 in c:\\users\\jrtan\\anaconda3\\envs\\myenv\\lib\\site-packages (from -r requirements.txt (line 11)) (1.8.1)\n",
      "Requirement already satisfied: torch>=1.7.0 in c:\\users\\jrtan\\anaconda3\\envs\\myenv\\lib\\site-packages (from -r requirements.txt (line 12)) (1.11.0)\n",
      "Requirement already satisfied: torchvision>=0.8.1 in c:\\users\\jrtan\\anaconda3\\envs\\myenv\\lib\\site-packages (from -r requirements.txt (line 13)) (0.12.0)\n",
      "Requirement already satisfied: tqdm>=4.41.0 in c:\\users\\jrtan\\anaconda3\\envs\\myenv\\lib\\site-packages (from -r requirements.txt (line 14)) (4.64.0)\n",
      "Requirement already satisfied: protobuf<=3.20.1 in c:\\users\\jrtan\\anaconda3\\envs\\myenv\\lib\\site-packages (from -r requirements.txt (line 15)) (3.19.4)\n",
      "Requirement already satisfied: tensorboard>=2.4.1 in c:\\users\\jrtan\\anaconda3\\envs\\myenv\\lib\\site-packages (from -r requirements.txt (line 18)) (2.9.1)\n",
      "Requirement already satisfied: pandas>=1.1.4 in c:\\users\\jrtan\\anaconda3\\envs\\myenv\\lib\\site-packages (from -r requirements.txt (line 22)) (1.4.2)\n",
      "Requirement already satisfied: seaborn>=0.11.0 in c:\\users\\jrtan\\anaconda3\\envs\\myenv\\lib\\site-packages (from -r requirements.txt (line 23)) (0.11.2)\n",
      "Requirement already satisfied: ipython in c:\\users\\jrtan\\anaconda3\\envs\\myenv\\lib\\site-packages (from -r requirements.txt (line 35)) (8.3.0)\n",
      "Requirement already satisfied: psutil in c:\\users\\jrtan\\anaconda3\\envs\\myenv\\lib\\site-packages (from -r requirements.txt (line 36)) (5.9.1)\n",
      "Requirement already satisfied: thop in c:\\users\\jrtan\\anaconda3\\envs\\myenv\\lib\\site-packages (from -r requirements.txt (line 37)) (0.1.0.post2206102148)\n",
      "Requirement already satisfied: python-dateutil>=2.7 in c:\\users\\jrtan\\anaconda3\\envs\\myenv\\lib\\site-packages (from matplotlib>=3.2.2->-r requirements.txt (line 5)) (2.8.2)\n",
      "Requirement already satisfied: cycler>=0.10 in c:\\users\\jrtan\\anaconda3\\envs\\myenv\\lib\\site-packages (from matplotlib>=3.2.2->-r requirements.txt (line 5)) (0.11.0)\n",
      "Requirement already satisfied: pyparsing>=2.2.1 in c:\\users\\jrtan\\anaconda3\\envs\\myenv\\lib\\site-packages (from matplotlib>=3.2.2->-r requirements.txt (line 5)) (3.0.9)\n",
      "Requirement already satisfied: fonttools>=4.22.0 in c:\\users\\jrtan\\anaconda3\\envs\\myenv\\lib\\site-packages (from matplotlib>=3.2.2->-r requirements.txt (line 5)) (4.33.3)\n",
      "Requirement already satisfied: packaging>=20.0 in c:\\users\\jrtan\\anaconda3\\envs\\myenv\\lib\\site-packages (from matplotlib>=3.2.2->-r requirements.txt (line 5)) (21.3)\n",
      "Requirement already satisfied: kiwisolver>=1.0.1 in c:\\users\\jrtan\\anaconda3\\envs\\myenv\\lib\\site-packages (from matplotlib>=3.2.2->-r requirements.txt (line 5)) (1.4.3)\n",
      "Requirement already satisfied: certifi>=2017.4.17 in c:\\users\\jrtan\\anaconda3\\envs\\myenv\\lib\\site-packages (from requests>=2.23.0->-r requirements.txt (line 10)) (2022.5.18.1)\n",
      "Requirement already satisfied: idna<4,>=2.5 in c:\\users\\jrtan\\anaconda3\\envs\\myenv\\lib\\site-packages (from requests>=2.23.0->-r requirements.txt (line 10)) (3.3)\n",
      "Requirement already satisfied: charset-normalizer~=2.0.0 in c:\\users\\jrtan\\anaconda3\\envs\\myenv\\lib\\site-packages (from requests>=2.23.0->-r requirements.txt (line 10)) (2.0.12)\n",
      "Requirement already satisfied: urllib3<1.27,>=1.21.1 in c:\\users\\jrtan\\anaconda3\\envs\\myenv\\lib\\site-packages (from requests>=2.23.0->-r requirements.txt (line 10)) (1.26.9)\n",
      "Requirement already satisfied: typing-extensions in c:\\users\\jrtan\\anaconda3\\envs\\myenv\\lib\\site-packages (from torch>=1.7.0->-r requirements.txt (line 12)) (4.2.0)\n",
      "Requirement already satisfied: colorama in c:\\users\\jrtan\\appdata\\roaming\\python\\python39\\site-packages (from tqdm>=4.41.0->-r requirements.txt (line 14)) (0.4.4)\n",
      "Requirement already satisfied: tensorboard-plugin-wit>=1.6.0 in c:\\users\\jrtan\\anaconda3\\envs\\myenv\\lib\\site-packages (from tensorboard>=2.4.1->-r requirements.txt (line 18)) (1.8.1)\n",
      "Requirement already satisfied: werkzeug>=1.0.1 in c:\\users\\jrtan\\appdata\\roaming\\python\\python39\\site-packages (from tensorboard>=2.4.1->-r requirements.txt (line 18)) (2.0.2)\n",
      "Requirement already satisfied: wheel>=0.26 in c:\\users\\jrtan\\anaconda3\\envs\\myenv\\lib\\site-packages (from tensorboard>=2.4.1->-r requirements.txt (line 18)) (0.37.1)\n",
      "Requirement already satisfied: tensorboard-data-server<0.7.0,>=0.6.0 in c:\\users\\jrtan\\anaconda3\\envs\\myenv\\lib\\site-packages (from tensorboard>=2.4.1->-r requirements.txt (line 18)) (0.6.1)\n",
      "Requirement already satisfied: setuptools>=41.0.0 in c:\\users\\jrtan\\anaconda3\\envs\\myenv\\lib\\site-packages (from tensorboard>=2.4.1->-r requirements.txt (line 18)) (61.2.0)\n",
      "Requirement already satisfied: markdown>=2.6.8 in c:\\users\\jrtan\\anaconda3\\envs\\myenv\\lib\\site-packages (from tensorboard>=2.4.1->-r requirements.txt (line 18)) (3.3.7)\n",
      "Requirement already satisfied: absl-py>=0.4 in c:\\users\\jrtan\\anaconda3\\envs\\myenv\\lib\\site-packages (from tensorboard>=2.4.1->-r requirements.txt (line 18)) (1.1.0)\n",
      "Requirement already satisfied: grpcio>=1.24.3 in c:\\users\\jrtan\\anaconda3\\envs\\myenv\\lib\\site-packages (from tensorboard>=2.4.1->-r requirements.txt (line 18)) (1.46.3)\n",
      "Requirement already satisfied: google-auth-oauthlib<0.5,>=0.4.1 in c:\\users\\jrtan\\anaconda3\\envs\\myenv\\lib\\site-packages (from tensorboard>=2.4.1->-r requirements.txt (line 18)) (0.4.6)\n",
      "Requirement already satisfied: google-auth<3,>=1.6.3 in c:\\users\\jrtan\\anaconda3\\envs\\myenv\\lib\\site-packages (from tensorboard>=2.4.1->-r requirements.txt (line 18)) (2.8.0)\n",
      "Requirement already satisfied: pytz>=2020.1 in c:\\users\\jrtan\\anaconda3\\envs\\myenv\\lib\\site-packages (from pandas>=1.1.4->-r requirements.txt (line 22)) (2022.1)\n",
      "Requirement already satisfied: prompt-toolkit!=3.0.0,!=3.0.1,<3.1.0,>=2.0.0 in c:\\users\\jrtan\\anaconda3\\envs\\myenv\\lib\\site-packages (from ipython->-r requirements.txt (line 35)) (3.0.20)\n",
      "Requirement already satisfied: stack-data in c:\\users\\jrtan\\anaconda3\\envs\\myenv\\lib\\site-packages (from ipython->-r requirements.txt (line 35)) (0.2.0)\n",
      "Requirement already satisfied: pygments>=2.4.0 in c:\\users\\jrtan\\anaconda3\\envs\\myenv\\lib\\site-packages (from ipython->-r requirements.txt (line 35)) (2.11.2)\n",
      "Requirement already satisfied: matplotlib-inline in c:\\users\\jrtan\\anaconda3\\envs\\myenv\\lib\\site-packages (from ipython->-r requirements.txt (line 35)) (0.1.2)\n",
      "Requirement already satisfied: backcall in c:\\users\\jrtan\\anaconda3\\envs\\myenv\\lib\\site-packages (from ipython->-r requirements.txt (line 35)) (0.2.0)\n",
      "Requirement already satisfied: pickleshare in c:\\users\\jrtan\\anaconda3\\envs\\myenv\\lib\\site-packages (from ipython->-r requirements.txt (line 35)) (0.7.5)\n",
      "Requirement already satisfied: jedi>=0.16 in c:\\users\\jrtan\\anaconda3\\envs\\myenv\\lib\\site-packages (from ipython->-r requirements.txt (line 35)) (0.18.1)\n",
      "Requirement already satisfied: traitlets>=5 in c:\\users\\jrtan\\anaconda3\\envs\\myenv\\lib\\site-packages (from ipython->-r requirements.txt (line 35)) (5.1.1)\n",
      "Requirement already satisfied: decorator in c:\\users\\jrtan\\anaconda3\\envs\\myenv\\lib\\site-packages (from ipython->-r requirements.txt (line 35)) (5.1.1)\n",
      "Requirement already satisfied: rsa<5,>=3.1.4 in c:\\users\\jrtan\\anaconda3\\envs\\myenv\\lib\\site-packages (from google-auth<3,>=1.6.3->tensorboard>=2.4.1->-r requirements.txt (line 18)) (4.8)\n",
      "Requirement already satisfied: pyasn1-modules>=0.2.1 in c:\\users\\jrtan\\anaconda3\\envs\\myenv\\lib\\site-packages (from google-auth<3,>=1.6.3->tensorboard>=2.4.1->-r requirements.txt (line 18)) (0.2.8)\n",
      "Requirement already satisfied: six>=1.9.0 in c:\\users\\jrtan\\anaconda3\\envs\\myenv\\lib\\site-packages (from google-auth<3,>=1.6.3->tensorboard>=2.4.1->-r requirements.txt (line 18)) (1.16.0)\n",
      "Requirement already satisfied: cachetools<6.0,>=2.0.0 in c:\\users\\jrtan\\anaconda3\\envs\\myenv\\lib\\site-packages (from google-auth<3,>=1.6.3->tensorboard>=2.4.1->-r requirements.txt (line 18)) (5.2.0)\n",
      "Requirement already satisfied: requests-oauthlib>=0.7.0 in c:\\users\\jrtan\\anaconda3\\envs\\myenv\\lib\\site-packages (from google-auth-oauthlib<0.5,>=0.4.1->tensorboard>=2.4.1->-r requirements.txt (line 18)) (1.3.1)\n",
      "Requirement already satisfied: parso<0.9.0,>=0.8.0 in c:\\users\\jrtan\\anaconda3\\envs\\myenv\\lib\\site-packages (from jedi>=0.16->ipython->-r requirements.txt (line 35)) (0.8.3)\n",
      "Requirement already satisfied: importlib-metadata>=4.4 in c:\\users\\jrtan\\anaconda3\\envs\\myenv\\lib\\site-packages (from markdown>=2.6.8->tensorboard>=2.4.1->-r requirements.txt (line 18)) (4.11.4)\n",
      "Requirement already satisfied: zipp>=0.5 in c:\\users\\jrtan\\anaconda3\\envs\\myenv\\lib\\site-packages (from importlib-metadata>=4.4->markdown>=2.6.8->tensorboard>=2.4.1->-r requirements.txt (line 18)) (3.8.0)\n",
      "Requirement already satisfied: wcwidth in c:\\users\\jrtan\\anaconda3\\envs\\myenv\\lib\\site-packages (from prompt-toolkit!=3.0.0,!=3.0.1,<3.1.0,>=2.0.0->ipython->-r requirements.txt (line 35)) (0.2.5)\n",
      "Requirement already satisfied: pyasn1<0.5.0,>=0.4.6 in c:\\users\\jrtan\\anaconda3\\envs\\myenv\\lib\\site-packages (from pyasn1-modules>=0.2.1->google-auth<3,>=1.6.3->tensorboard>=2.4.1->-r requirements.txt (line 18)) (0.4.8)\n",
      "Requirement already satisfied: oauthlib>=3.0.0 in c:\\users\\jrtan\\anaconda3\\envs\\myenv\\lib\\site-packages (from requests-oauthlib>=0.7.0->google-auth-oauthlib<0.5,>=0.4.1->tensorboard>=2.4.1->-r requirements.txt (line 18)) (3.2.0)\n",
      "Requirement already satisfied: executing in c:\\users\\jrtan\\anaconda3\\envs\\myenv\\lib\\site-packages (from stack-data->ipython->-r requirements.txt (line 35)) (0.8.3)\n",
      "Requirement already satisfied: asttokens in c:\\users\\jrtan\\anaconda3\\envs\\myenv\\lib\\site-packages (from stack-data->ipython->-r requirements.txt (line 35)) (2.0.5)\n",
      "Requirement already satisfied: pure-eval in c:\\users\\jrtan\\anaconda3\\envs\\myenv\\lib\\site-packages (from stack-data->ipython->-r requirements.txt (line 35)) (0.2.2)\n"
     ]
    }
   ],
   "source": [
    "!cd yolov5 & pip install -r requirements.txt"
   ]
  },
  {
   "cell_type": "code",
   "execution_count": null,
   "metadata": {},
   "outputs": [],
   "source": []
  }
 ],
 "metadata": {
  "kernelspec": {
   "display_name": "Python 3.9.12 ('myenv')",
   "language": "python",
   "name": "python3"
  },
  "language_info": {
   "codemirror_mode": {
    "name": "ipython",
    "version": 3
   },
   "file_extension": ".py",
   "mimetype": "text/x-python",
   "name": "python",
   "nbconvert_exporter": "python",
   "pygments_lexer": "ipython3",
   "version": "3.9.12"
  },
  "orig_nbformat": 4,
  "vscode": {
   "interpreter": {
    "hash": "dd9ea9225682f867c2db72efbd7fed8c0fef31564847c85e448611f854728f3e"
   }
  }
 },
 "nbformat": 4,
 "nbformat_minor": 2
}
